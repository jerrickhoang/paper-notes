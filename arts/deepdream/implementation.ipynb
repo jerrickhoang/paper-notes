{
 "cells": [
  {
   "cell_type": "code",
   "execution_count": 19,
   "metadata": {
    "collapsed": false,
    "deletable": true,
    "editable": true
   },
   "outputs": [],
   "source": [
    "from keras.applications import inception_v3\n",
    "from keras import backend as K"
   ]
  },
  {
   "cell_type": "code",
   "execution_count": 20,
   "metadata": {
    "collapsed": false,
    "deletable": true,
    "editable": true
   },
   "outputs": [],
   "source": [
    "K.set_learning_phase(0)\n",
    "model = inception_v3.InceptionV3(weights='imagenet', include_top=False)"
   ]
  },
  {
   "cell_type": "raw",
   "metadata": {
    "collapsed": false,
    "deletable": true,
    "editable": true
   },
   "source": [
    "layer_contributions = {\n",
    "    'mixed2': 0.2,\n",
    "    'mixed3': 3.,\n",
    "    'mixed4': 2.,\n",
    "    'mixed5': 1.5\n",
    "}\n",
    "layer_dict = {layer.name: layer for layer in model.layers}\n",
    "\n",
    "loss = K.variable(0.)\n",
    "\n",
    "for layer_name, coeff in layer_contributions.items():\n",
    "    activation = layer_dict[layer_name].output\n",
    "    \n",
    "    # if activation shape is mxn then scaling = m * n\n",
    "    scaling = K.prod(K.cast(K.shape(activation), 'float32'))\n",
    "    loss += coeff * K.sum(K.square(activation[:, 2:-2, 2:-2, :])) / scaling\n",
    "    "
   ]
  },
  {
   "cell_type": "code",
   "execution_count": 35,
   "metadata": {
    "collapsed": false,
    "deletable": true,
    "editable": true
   },
   "outputs": [],
   "source": [
    "dream = model.input\n",
    "\n",
    "grads = K.gradients(loss, dream)[0]\n",
    "\n",
    "grads /= K.maximum(K.mean(K.abs(grads)), 1e-7)\n",
    "outputs = [loss, grads]\n",
    "\n",
    "fetch_loss_and_grads = K.function([dream], outputs)\n",
    "def eval_loss_and_grads(x):\n",
    "    outs = fetch_loss_and_grads([x])\n",
    "    loss_value = outs[0]\n",
    "    grad_values = outs[1]\n",
    "    return loss_value, grad_values\n",
    "\n",
    "def gradient_ascent(x, iterations, step, max_loss=None):\n",
    "    for i in range(iterations):\n",
    "        loss_value, grad_values = eval_loss_and_grads(x)\n",
    "        if max_loss is not None and loss_value > max_loss:\n",
    "            break\n",
    "        print('...Loss value at', i, ':', loss_value)\n",
    "        x += step * grad_values\n",
    "    return x"
   ]
  },
  {
   "cell_type": "code",
   "execution_count": 44,
   "metadata": {
    "collapsed": true,
    "deletable": true,
    "editable": true
   },
   "outputs": [],
   "source": [
    "import scipy\n",
    "from keras.preprocessing import image\n",
    "\n",
    "def resize_img(img, size):\n",
    "    img = np.copy(img)\n",
    "    factors = (1, float(size[0]) / img.shape[1], float(size[1]) / img.shape[2], 1)\n",
    "    return scipy.ndimage.zoom(img, factors, order=1)\n",
    "\n",
    "def save_img(img, fname):\n",
    "    pil_img = deprocess_image(np.copy(img))\n",
    "    scipy.misc.imsave(fname, pil_img)\n",
    "    \n",
    "def deprocess_image(x):\n",
    "    if K.image_data_format() == 'channels_first':\n",
    "        x = x.reshape((3, x.shape[2], x.shape[3]))\n",
    "        x = x.transpose((1, 2, 0))\n",
    "    else:\n",
    "        x = x.reshape((x.shape[1], x.shape[2], 3))\n",
    "    x /= 2.\n",
    "    x += 0.5\n",
    "    x*= 255.\n",
    "    x = np.clip(x, 0, 255).astype('uint8')\n",
    "    return x\n",
    "\n",
    "def preprocess_image(image_path):\n",
    "    img = image.load_img(image_path)\n",
    "    img = image.img_to_array(img)\n",
    "    img = np.expand_dims(img, axis=0)\n",
    "    img = inception_v3.preprocess_input(img)\n",
    "\n",
    "    return img"
   ]
  },
  {
   "cell_type": "code",
   "execution_count": 50,
   "metadata": {
    "collapsed": false,
    "deletable": true,
    "editable": true
   },
   "outputs": [
    {
     "name": "stdout",
     "output_type": "stream",
     "text": [
      "[(480, 800), (342, 571), (244, 408)]\n",
      "Processing image shape (244, 408)\n",
      "...Loss value at 0 : 1.66842\n",
      "...Loss value at 1 : 1.87864\n",
      "...Loss value at 2 : 2.42955\n",
      "...Loss value at 3 : 3.14945\n",
      "...Loss value at 4 : 3.82142\n",
      "...Loss value at 5 : 4.54492\n",
      "...Loss value at 6 : 5.22331\n",
      "...Loss value at 7 : 5.93976\n",
      "...Loss value at 8 : 6.64884\n",
      "...Loss value at 9 : 7.32313\n",
      "...Loss value at 10 : 8.03306\n",
      "...Loss value at 11 : 8.65654\n",
      "...Loss value at 12 : 9.30137\n",
      "...Loss value at 13 : 9.83113\n",
      "Processing image shape (342, 571)\n",
      "...Loss value at 0 : 3.19986\n",
      "...Loss value at 1 : 4.61719\n",
      "...Loss value at 2 : 5.75622\n",
      "...Loss value at 3 : 6.75738\n",
      "...Loss value at 4 : 7.66669\n",
      "...Loss value at 5 : 8.50631\n",
      "...Loss value at 6 : 9.29299\n",
      "Processing image shape (480, 800)\n",
      "...Loss value at 0 : 3.29671\n",
      "...Loss value at 1 : 4.4772\n",
      "...Loss value at 2 : 5.56061\n",
      "...Loss value at 3 : 6.56671\n",
      "...Loss value at 4 : 7.51786\n",
      "...Loss value at 5 : 8.42448\n",
      "...Loss value at 6 : 9.27976\n"
     ]
    }
   ],
   "source": [
    "import numpy as np\n",
    "\n",
    "step = 0.01\n",
    "num_octave = 3\n",
    "octave_scale = 1.4\n",
    "iterations = 20\n",
    "max_loss = 10\n",
    "base_image_path = 'invoker.jpg'\n",
    "\n",
    "img = preprocess_image(base_image_path)\n",
    "\n",
    "original_shape = img.shape[1:3]\n",
    "\n",
    "successive_shapes = [original_shape]\n",
    "for i in range(1, num_octave):\n",
    "    shape = tuple([int(dim/ (octave_scale ** i)) for dim in original_shape])\n",
    "    successive_shapes.append(shape)\n",
    "\n",
    "print(successive_shapes)\n",
    "successive_shapes = successive_shapes[::-1]\n",
    "original_img = np.copy(img)\n",
    "shrunk_original_img = resize_img(img, successive_shapes[0])\n",
    "\n",
    "for shape in successive_shapes:\n",
    "    print ('Processing image shape', shape)\n",
    "    img = resize_img(img, shape)\n",
    "    img = gradient_ascent(img, iterations=iterations, step=step, max_loss=max_loss)\n",
    "    upscaled_shrunk_original_img = resize_img(shrunk_original_img, shape)\n",
    "    same_size_original_img = resize_img(original_img, shape)\n",
    "    \n",
    "    lost_detail = same_size_original_img - upscaled_shrunk_original_img\n",
    "    \n",
    "    img += lost_detail\n",
    "    shrunk_original_img = resize_img(original_img, shape)\n",
    "    save_img(img, fname='dream_at_scale_'+str(shape)+'.png')\n",
    "save_img(img, fname='final_dream.png')"
   ]
  },
  {
   "cell_type": "code",
   "execution_count": 49,
   "metadata": {
    "collapsed": false,
    "deletable": true,
    "editable": true
   },
   "outputs": [
    {
     "data": {
      "text/plain": [
       "array([[[[ 0.        ,  0.50698996,  1.12446356, ...,  0.        ,\n",
       "           0.        ,  0.        ],\n",
       "         [ 0.        ,  0.48044124,  0.        , ...,  0.        ,\n",
       "           0.        ,  0.        ],\n",
       "         [ 0.        ,  0.05864118,  0.        , ...,  0.        ,\n",
       "           0.        ,  0.        ],\n",
       "         ..., \n",
       "         [ 0.31237513,  0.        ,  0.        , ...,  0.10285063,\n",
       "           0.        ,  0.        ],\n",
       "         [ 0.95206565,  0.        ,  0.        , ...,  0.        ,\n",
       "           0.        ,  0.        ],\n",
       "         [ 0.        ,  0.        ,  0.25396895, ...,  0.        ,\n",
       "           0.        ,  0.        ]],\n",
       "\n",
       "        [[ 0.        ,  0.14586219,  0.05596454, ...,  0.        ,\n",
       "           0.        ,  0.        ],\n",
       "         [ 0.        ,  0.        ,  0.        , ...,  0.        ,\n",
       "           0.        ,  0.        ],\n",
       "         [ 0.        ,  0.        ,  0.        , ...,  0.        ,\n",
       "           0.        ,  0.        ],\n",
       "         ..., \n",
       "         [ 0.00698549,  0.17298499,  0.        , ...,  0.1526005 ,\n",
       "           0.        ,  0.        ],\n",
       "         [ 0.98988527,  0.        ,  0.        , ...,  0.        ,\n",
       "           0.        ,  0.        ],\n",
       "         [ 0.62772542,  0.        ,  0.        , ...,  0.        ,\n",
       "           0.        ,  0.        ]],\n",
       "\n",
       "        [[ 0.        ,  0.        ,  0.        , ...,  0.        ,\n",
       "           0.        ,  0.        ],\n",
       "         [ 0.        ,  0.        ,  0.        , ...,  0.        ,\n",
       "           0.        ,  0.        ],\n",
       "         [ 0.        ,  0.        ,  0.        , ...,  0.        ,\n",
       "           0.        ,  0.        ],\n",
       "         ..., \n",
       "         [ 0.16168897,  0.1074593 ,  0.        , ...,  0.525316  ,\n",
       "           0.        ,  0.        ],\n",
       "         [ 0.46041214,  0.50196284,  0.        , ...,  0.15612544,\n",
       "           0.        ,  0.        ],\n",
       "         [ 0.4258393 ,  0.        ,  0.        , ...,  0.        ,\n",
       "           0.        ,  0.        ]],\n",
       "\n",
       "        ..., \n",
       "        [[ 0.        ,  0.        ,  0.        , ...,  0.12900771,\n",
       "           0.        ,  0.        ],\n",
       "         [ 0.        ,  0.        ,  0.36819175, ...,  0.14364685,\n",
       "           0.        ,  0.        ],\n",
       "         [ 0.        ,  0.        ,  0.        , ...,  0.45467097,\n",
       "           0.        ,  0.        ],\n",
       "         ..., \n",
       "         [ 0.61681771,  0.        ,  0.        , ...,  0.14023881,\n",
       "           0.75603354,  0.56898558],\n",
       "         [ 0.        ,  0.35501623,  0.        , ...,  0.50843382,\n",
       "           0.79693055,  0.32881296],\n",
       "         [ 0.        ,  0.        ,  0.        , ...,  0.54666102,\n",
       "           0.64999038,  0.27307534]],\n",
       "\n",
       "        [[ 0.        ,  0.        ,  0.        , ...,  0.70469046,\n",
       "           0.        ,  0.        ],\n",
       "         [ 0.        ,  0.        ,  0.        , ...,  0.61833906,\n",
       "           0.        ,  0.        ],\n",
       "         [ 0.        ,  0.        ,  0.        , ...,  0.81579852,\n",
       "           0.        ,  0.        ],\n",
       "         ..., \n",
       "         [ 0.        ,  0.02893636,  0.        , ...,  0.        ,\n",
       "           0.63065004,  0.22441018],\n",
       "         [ 0.        ,  0.        ,  0.        , ...,  0.13433026,\n",
       "           0.46360841,  0.01446573],\n",
       "         [ 0.        ,  0.        ,  0.        , ...,  0.06683257,\n",
       "           0.26552716,  0.        ]],\n",
       "\n",
       "        [[ 0.        ,  0.        ,  0.90884221, ...,  0.93631923,\n",
       "           0.        ,  0.        ],\n",
       "         [ 0.        ,  0.        ,  0.6703918 , ...,  0.78278804,\n",
       "           0.        ,  0.        ],\n",
       "         [ 0.        ,  0.10249817,  0.        , ...,  0.90017331,\n",
       "           0.        ,  0.        ],\n",
       "         ..., \n",
       "         [ 0.        ,  0.        ,  0.        , ...,  0.        ,\n",
       "           0.67672735,  0.        ],\n",
       "         [ 0.        ,  0.        ,  0.        , ...,  0.        ,\n",
       "           0.21379143,  0.        ],\n",
       "         [ 0.        ,  0.        ,  0.        , ...,  0.        ,\n",
       "           0.        ,  0.        ]]]], dtype=float32)"
      ]
     },
     "execution_count": 49,
     "metadata": {},
     "output_type": "execute_result"
    }
   ],
   "source": [
    "img = preprocess_image('pa.jpg')\n",
    "model.predict(img, 1)"
   ]
  },
  {
   "cell_type": "code",
   "execution_count": null,
   "metadata": {
    "collapsed": true,
    "deletable": true,
    "editable": true
   },
   "outputs": [],
   "source": []
  }
 ],
 "metadata": {
  "anaconda-cloud": {},
  "kernelspec": {
   "display_name": "Python [conda root]",
   "language": "python",
   "name": "conda-root-py"
  },
  "language_info": {
   "codemirror_mode": {
    "name": "ipython",
    "version": 3
   },
   "file_extension": ".py",
   "mimetype": "text/x-python",
   "name": "python",
   "nbconvert_exporter": "python",
   "pygments_lexer": "ipython3",
   "version": "3.5.2"
  }
 },
 "nbformat": 4,
 "nbformat_minor": 2
}
